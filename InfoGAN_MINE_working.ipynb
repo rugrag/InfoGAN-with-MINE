{
 "cells": [
  {
   "cell_type": "code",
   "execution_count": 1,
   "metadata": {
    "colab": {},
    "colab_type": "code",
    "id": "WlAKK6AZAOJB"
   },
   "outputs": [],
   "source": [
    "import numpy as np\n",
    "import matplotlib.pyplot as plt\n",
    "import tensorflow as tf\n",
    "import tensorflow.contrib.slim as slim\n",
    "\n",
    "from tensorflow.contrib.layers import *\n",
    "%matplotlib inline"
   ]
  },
  {
   "cell_type": "code",
   "execution_count": 2,
   "metadata": {},
   "outputs": [],
   "source": [
    "def indices_to_one_hot(data, nb_classes):\n",
    "    \"\"\"Convert an iterable of indices to one-hot encoded labels.\"\"\"\n",
    "    targets = np.array(data).reshape(-1)\n",
    "    return np.eye(nb_classes)[targets]"
   ]
  },
  {
   "cell_type": "markdown",
   "metadata": {
    "colab_type": "text",
    "id": "HJhlr6BPAOJG"
   },
   "source": [
    "# Modules"
   ]
  },
  {
   "cell_type": "code",
   "execution_count": 3,
   "metadata": {
    "colab": {},
    "colab_type": "code",
    "id": "DVei4ZSUAOJH"
   },
   "outputs": [],
   "source": [
    "# Discriminator\n",
    "def D(x,h_dim=256,reuse=False):\n",
    "    \n",
    "    with tf.variable_scope('D',reuse=reuse):\n",
    "        \n",
    "        fc1 = fully_connected(inputs=x,  num_outputs=h_dim,activation_fn=tf.nn.relu)\n",
    "        fc2 = fully_connected(inputs=fc1,num_outputs=h_dim,activation_fn=tf.nn.relu)\n",
    "        fc3 = fully_connected(inputs=fc2,num_outputs=h_dim,activation_fn=tf.nn.relu)\n",
    "        logits = fully_connected(inputs=fc3,num_outputs=1, activation_fn=None)\n",
    "        out = tf.sigmoid(logits)\n",
    "        \n",
    "        return out, logits\n",
    "\n",
    "\n",
    "# generator\n",
    "def G(z, is_training,h_dim=128, reuse=False):\n",
    "    \n",
    "    with tf.variable_scope('G',reuse=reuse):\n",
    "        \n",
    "#         with slim.arg_scope([slim.conv2d, slim.fully_connected],\n",
    "#                     activation_fn=tf.nn.leaky_relu,\n",
    "#                     normalizer_fn=tf.layers.batch_normalization,\n",
    "#                     normalizer_params={'training': is_training, 'momentum': 0.95}):\n",
    "\n",
    "\n",
    "        fc1 = fully_connected(inputs=z,  num_outputs=h_dim,activation_fn=tf.nn.leaky_relu)\n",
    "        fc2 = fully_connected(inputs=fc1,num_outputs=h_dim,activation_fn=tf.nn.leaky_relu)\n",
    "        out = fully_connected(inputs=fc2,num_outputs=2, activation_fn=tf.nn.tanh)\n",
    "\n",
    "        return out\n",
    "\n",
    "\n",
    "# Statistics network for MINE\n",
    "def M(inp,h_dim=128, reuse=False):\n",
    "    \n",
    "    with tf.variable_scope('M',reuse=reuse):\n",
    "        \n",
    "        fc1 = fully_connected(inputs=inp,num_outputs=h_dim,activation_fn=tf.nn.elu)\n",
    "        fc2 = fully_connected(inputs=fc1,num_outputs=h_dim,activation_fn=tf.nn.elu)\n",
    "        fc3 = fully_connected(inputs=fc2,num_outputs=h_dim,activation_fn=tf.nn.elu)\n",
    "        out = fully_connected(inputs=fc3,num_outputs=1, activation_fn=None)\n",
    "    \n",
    "        return out"
   ]
  },
  {
   "cell_type": "markdown",
   "metadata": {
    "colab_type": "text",
    "id": "TSQ8YQcpAOJK"
   },
   "source": [
    "# computational graph"
   ]
  },
  {
   "cell_type": "code",
   "execution_count": 4,
   "metadata": {
    "colab": {
     "base_uri": "https://localhost:8080/",
     "height": 109
    },
    "colab_type": "code",
    "id": "gWk-bAcWAOJL",
    "outputId": "d4fad682-d1e0-45eb-bcb4-18b741a79e39",
    "scrolled": false
   },
   "outputs": [],
   "source": [
    "noise_dim = 6\n",
    "code_dim  = 4\n",
    "\n",
    "tf.reset_default_graph()\n",
    "\n",
    "x_real = tf.placeholder(tf.float32,shape=[None,2],name='x_real')\n",
    "eps    = tf.placeholder(tf.float32,shape=[None,noise_dim],name='eps')\n",
    "code   = tf.placeholder(tf.float32,shape=[None,code_dim],name='code')\n",
    "is_training = tf.placeholder(tf.bool,shape=[],name='is_training')\n",
    "\n",
    "# generator\n",
    "z = tf.concat([eps,code], axis=1)\n",
    "x_tld = G(z, is_training)\n",
    "\n",
    "# discriminator\n",
    "D_out_real, D_log_real = D(x_real)\n",
    "D_out_fake, D_log_fake = D(x_tld,reuse=True)\n",
    "\n",
    "\n",
    "# mine\n",
    "c_bar = tf.random_shuffle(code)\n",
    "\n",
    "joint = tf.concat([code,x_tld], axis=1)\n",
    "margn = tf.concat([c_bar,x_tld], axis=1)\n",
    "\n",
    "t  = M(joint)\n",
    "et = tf.exp(M(margn,reuse=True))\n",
    "\n"
   ]
  },
  {
   "cell_type": "code",
   "execution_count": 5,
   "metadata": {
    "colab": {
     "base_uri": "https://localhost:8080/",
     "height": 575
    },
    "colab_type": "code",
    "id": "qFPlIcd_AOJO",
    "outputId": "e59055f3-e44a-4d7c-b290-dcc16076a572"
   },
   "outputs": [
    {
     "name": "stdout",
     "output_type": "stream",
     "text": [
      "G/fully_connected/weights:0\n",
      "G/fully_connected/biases:0\n",
      "G/fully_connected_1/weights:0\n",
      "G/fully_connected_1/biases:0\n",
      "G/fully_connected_2/weights:0\n",
      "G/fully_connected_2/biases:0\n",
      "D/fully_connected/weights:0\n",
      "D/fully_connected/biases:0\n",
      "D/fully_connected_1/weights:0\n",
      "D/fully_connected_1/biases:0\n",
      "D/fully_connected_2/weights:0\n",
      "D/fully_connected_2/biases:0\n",
      "D/fully_connected_3/weights:0\n",
      "D/fully_connected_3/biases:0\n",
      "M/fully_connected/weights:0\n",
      "M/fully_connected/biases:0\n",
      "M/fully_connected_1/weights:0\n",
      "M/fully_connected_1/biases:0\n",
      "M/fully_connected_2/weights:0\n",
      "M/fully_connected_2/biases:0\n",
      "M/fully_connected_3/weights:0\n",
      "M/fully_connected_3/biases:0\n"
     ]
    }
   ],
   "source": [
    "# print variables in graph\n",
    "l = [x.name for x in tf.global_variables()]\n",
    "\n",
    "for ll in l:\n",
    "    print(ll)"
   ]
  },
  {
   "cell_type": "markdown",
   "metadata": {
    "colab_type": "text",
    "id": "x3QClur0AOJU"
   },
   "source": [
    "# loss function"
   ]
  },
  {
   "cell_type": "code",
   "execution_count": 6,
   "metadata": {
    "colab": {
     "base_uri": "https://localhost:8080/",
     "height": 91
    },
    "colab_type": "code",
    "id": "hbR51Sc-AOJV",
    "outputId": "f1ce2b36-ad1b-4c6c-a440-9fe955ec7d4d"
   },
   "outputs": [],
   "source": [
    "def loss_func(logits_in,labels_in):\n",
    "    return tf.reduce_mean(tf.nn.sigmoid_cross_entropy_with_logits(logits=logits_in,labels=labels_in))\n",
    "\n",
    "# ----- D ----- #\n",
    "D_real_loss=loss_func(D_log_real,tf.ones_like(D_log_real)*0.9) #Smoothing for generalization\n",
    "D_fake_loss=loss_func(D_log_fake,tf.zeros_like(D_log_real))\n",
    "D_loss = D_real_loss + D_fake_loss\n",
    "\n",
    "# ----- M ----- #\n",
    "M_loss = -(tf.reduce_mean(t) - tf.log(tf.reduce_mean(et)))\n",
    "\n",
    "# ----- G ----- #\n",
    "G_loss = loss_func(D_log_fake,tf.ones_like(D_log_fake)) #+ M_loss\n",
    "\n",
    "\n"
   ]
  },
  {
   "cell_type": "markdown",
   "metadata": {
    "colab_type": "text",
    "id": "LcrTwRxeAOJY"
   },
   "source": [
    "# optimizers"
   ]
  },
  {
   "cell_type": "code",
   "execution_count": 7,
   "metadata": {
    "colab": {},
    "colab_type": "code",
    "id": "xLzmIpA7AOJZ"
   },
   "outputs": [],
   "source": [
    "lr = 1e-4\n",
    "\n",
    "\n",
    "tvars=tf.trainable_variables() \n",
    "\n",
    "d_vars=[var for var in tvars if 'D' in var.name]\n",
    "g_vars=[var for var in tvars if 'G' in var.name]\n",
    "m_vars=[var for var in tvars if 'M' in var.name]\n",
    "\n",
    "D_train_op=tf.train.AdamOptimizer(lr).minimize(D_loss,var_list=d_vars)\n",
    "M_train_op_m=tf.train.AdamOptimizer(lr).minimize(M_loss,var_list=m_vars)\n",
    "M_optimizer = tf.train.AdamOptimizer(lr)\n",
    "G_optimizer=tf.train.AdamOptimizer(lr)\n",
    "# M_trainer=tf.train.AdamOptimizer(lr).minimize(M_loss,var_list=m_vars)"
   ]
  },
  {
   "cell_type": "code",
   "execution_count": 8,
   "metadata": {
    "colab": {},
    "colab_type": "code",
    "id": "UoogLsEmAOJc"
   },
   "outputs": [],
   "source": [
    "batch_size=256\n",
    "epochs=100\n"
   ]
  },
  {
   "cell_type": "markdown",
   "metadata": {
    "colab_type": "text",
    "id": "7erg52NPAOJf"
   },
   "source": [
    "# Gradient clipping"
   ]
  },
  {
   "cell_type": "code",
   "execution_count": 9,
   "metadata": {
    "colab": {},
    "colab_type": "code",
    "id": "eVCSw7rBAOJg",
    "scrolled": false
   },
   "outputs": [],
   "source": [
    "ggu = tf.gradients(G_loss, g_vars)\n",
    "ggm = tf.gradients(M_loss, g_vars)\n",
    "\n",
    "# ga = [] \n",
    "for i, (gu,gm) in enumerate(zip(ggu,ggm)):\n",
    "\n",
    "    # clip\n",
    "    gu_ = tf.norm(gu)\n",
    "    gm_ = tf.norm(gm)\n",
    "    g_ =  tf.minimum(gu_, gm_)\n",
    "\n",
    "    ggm[i]=tf.multiply(g_,tf.divide(gm,gm_))\n",
    "\n",
    "ga_and_vars = list(zip(ggm, g_vars))\n",
    "M_train_op_g = M_optimizer.apply_gradients(grads_and_vars=ga_and_vars)\n",
    "\n",
    "ggu_and_vars = list(zip(ggu,g_vars))\n",
    "G_train_op=G_optimizer.apply_gradients(grads_and_vars=ggu_and_vars)\n",
    "\n",
    "\n"
   ]
  },
  {
   "cell_type": "markdown",
   "metadata": {
    "colab_type": "text",
    "id": "MD0G1G2rAOJj"
   },
   "source": [
    "# Make toy data"
   ]
  },
  {
   "cell_type": "code",
   "execution_count": 10,
   "metadata": {
    "colab": {},
    "colab_type": "code",
    "id": "ziDUCxX_AOJk"
   },
   "outputs": [],
   "source": [
    "x = 0.2 * np.random.randn(20000, 2)"
   ]
  },
  {
   "cell_type": "code",
   "execution_count": 11,
   "metadata": {
    "colab": {
     "base_uri": "https://localhost:8080/",
     "height": 269
    },
    "colab_type": "code",
    "id": "CsPT-aiMAOJp",
    "outputId": "e35fbef7-b1ed-4507-e7c5-fe6adb47577d"
   },
   "outputs": [
    {
     "data": {
      "image/png": "[encoded data removed]",
      "text/plain": [
       "<Figure size 432x288 with 1 Axes>"
      ]
     },
     "metadata": {
      "needs_background": "light"
     },
     "output_type": "display_data"
    }
   ],
   "source": [
    "x = np.array([(i,j) for i in range(-4, 5, 6) for j in range(-4, 5, 6)] * 5000)\n",
    "x = x + 0.3 * np.random.randn(*x.shape)\n",
    "\n",
    "x = (x - np.amin(x))/(np.amax(x) - np.amin(x)) - 0.5\n",
    "\n",
    "# shuffle\n",
    "np.random.shuffle(x)\n",
    "plt.scatter(x[:1000,0], x[:1000,1], s=2.0)\n",
    "plt.xlim((-2, 2))\n",
    "plt.ylim((-2, 2))\n",
    "plt.show()"
   ]
  },
  {
   "cell_type": "code",
   "execution_count": 12,
   "metadata": {
    "colab": {},
    "colab_type": "code",
    "id": "vUFJtBz_AOJt"
   },
   "outputs": [],
   "source": [
    "n_samples = x.shape[0]\n",
    "num_batches = n_samples//batch_size"
   ]
  },
  {
   "cell_type": "code",
   "execution_count": 13,
   "metadata": {
    "colab": {
     "base_uri": "https://localhost:8080/",
     "height": 1000
    },
    "colab_type": "code",
    "id": "j7GqMo1UAOJv",
    "outputId": "1e53d159-e215-427b-8cbb-de6c94ed2202",
    "scrolled": false
   },
   "outputs": [
    {
     "name": "stdout",
     "output_type": "stream",
     "text": [
      "ep:0, D_real_loss: 0.6994, D_fake_loss: 0.5992, D_out_fk: 0.4477,D_out_rl: 0.5004, G_loss: 0.8109, M_loss: 0.0904\n"
     ]
    },
    {
     "data": {
      "image/png": "[encoded data removed]",
      "text/plain": [
       "<Figure size 432x288 with 1 Axes>"
      ]
     },
     "metadata": {
      "needs_background": "light"
     },
     "output_type": "display_data"
    },
    {
     "name": "stdout",
     "output_type": "stream",
     "text": [
      "ep:1, D_real_loss: 0.8652, D_fake_loss: 0.3975, D_out_fk: 0.3245,D_out_rl: 0.4119, G_loss: 1.1438, M_loss: 0.5217\n",
      "ep:2, D_real_loss: 0.7747, D_fake_loss: 0.3384, D_out_fk: 0.2836,D_out_rl: 0.4583, G_loss: 1.2937, M_loss: 0.9513\n",
      "ep:3, D_real_loss: 0.7144, D_fake_loss: 0.4438, D_out_fk: 0.3399,D_out_rl: 0.5039, G_loss: 1.2122, M_loss: 0.8141\n",
      "ep:4, D_real_loss: 0.8027, D_fake_loss: 0.5976, D_out_fk: 0.4451,D_out_rl: 0.4394, G_loss: 0.8232, M_loss: 0.9808\n",
      "ep:5, D_real_loss: 0.7772, D_fake_loss: 0.5999, D_out_fk: 0.4492,D_out_rl: 0.4515, G_loss: 0.8062, M_loss: 1.2914\n",
      "ep:6, D_real_loss: 0.7520, D_fake_loss: 0.6415, D_out_fk: 0.4734,D_out_rl: 0.4651, G_loss: 0.7482, M_loss: 1.1861\n",
      "ep:7, D_real_loss: 0.7731, D_fake_loss: 0.5907, D_out_fk: 0.4456,D_out_rl: 0.4537, G_loss: 0.8098, M_loss: 1.2330\n",
      "ep:8, D_real_loss: 0.8082, D_fake_loss: 0.5622, D_out_fk: 0.4299,D_out_rl: 0.4341, G_loss: 0.8446, M_loss: 1.5023\n",
      "ep:9, D_real_loss: 0.7723, D_fake_loss: 0.6141, D_out_fk: 0.4588,D_out_rl: 0.4536, G_loss: 0.7794, M_loss: 1.5194\n",
      "ep:10, D_real_loss: 0.7671, D_fake_loss: 0.6062, D_out_fk: 0.4545,D_out_rl: 0.4563, G_loss: 0.7886, M_loss: 1.3394\n"
     ]
    },
    {
     "data": {
      "image/png": "[encoded data removed]",
      "text/plain": [
       "<Figure size 432x288 with 1 Axes>"
      ]
     },
     "metadata": {
      "needs_background": "light"
     },
     "output_type": "display_data"
    },
    {
     "name": "stdout",
     "output_type": "stream",
     "text": [
      "ep:11, D_real_loss: 0.8178, D_fake_loss: 0.5705, D_out_fk: 0.4345,D_out_rl: 0.4292, G_loss: 0.8344, M_loss: 1.5427\n",
      "ep:12, D_real_loss: 0.7787, D_fake_loss: 0.6107, D_out_fk: 0.4565,D_out_rl: 0.4502, G_loss: 0.7854, M_loss: 1.3501\n",
      "ep:13, D_real_loss: 0.7528, D_fake_loss: 0.6154, D_out_fk: 0.4595,D_out_rl: 0.4645, G_loss: 0.7778, M_loss: 1.3648\n",
      "ep:14, D_real_loss: 0.8164, D_fake_loss: 0.5649, D_out_fk: 0.4316,D_out_rl: 0.4297, G_loss: 0.8404, M_loss: 1.4009\n",
      "ep:15, D_real_loss: 0.7692, D_fake_loss: 0.6278, D_out_fk: 0.4661,D_out_rl: 0.4552, G_loss: 0.7635, M_loss: 1.3731\n",
      "ep:16, D_real_loss: 0.7525, D_fake_loss: 0.6134, D_out_fk: 0.4581,D_out_rl: 0.4653, G_loss: 0.7818, M_loss: 1.1228\n",
      "ep:17, D_real_loss: 0.8265, D_fake_loss: 0.5471, D_out_fk: 0.4212,D_out_rl: 0.4247, G_loss: 0.8652, M_loss: 1.4950\n",
      "ep:18, D_real_loss: 0.7524, D_fake_loss: 0.6419, D_out_fk: 0.4736,D_out_rl: 0.4649, G_loss: 0.7476, M_loss: 1.2469\n",
      "ep:19, D_real_loss: 0.7641, D_fake_loss: 0.6133, D_out_fk: 0.4583,D_out_rl: 0.4581, G_loss: 0.7805, M_loss: 1.4742\n",
      "ep:20, D_real_loss: 0.8145, D_fake_loss: 0.5572, D_out_fk: 0.4269,D_out_rl: 0.4310, G_loss: 0.8522, M_loss: 1.3529\n"
     ]
    },
    {
     "data": {
      "image/png": "[encoded data removed]",
      "text/plain": [
       "<Figure size 432x288 with 1 Axes>"
      ]
     },
     "metadata": {
      "needs_background": "light"
     },
     "output_type": "display_data"
    },
    {
     "ename": "KeyboardInterrupt",
     "evalue": "",
     "output_type": "error",
     "traceback": [
      "\u001b[0;31m---------------------------------------------------------------------------\u001b[0m",
      "\u001b[0;31mKeyboardInterrupt\u001b[0m                         Traceback (most recent call last)",
      "\u001b[0;32m<ipython-input-13-56490c51e00b>\u001b[0m in \u001b[0;36m<module>\u001b[0;34m\u001b[0m\n\u001b[1;32m     26\u001b[0m         \u001b[0msess\u001b[0m\u001b[0;34m.\u001b[0m\u001b[0mrun\u001b[0m\u001b[0;34m(\u001b[0m\u001b[0mG_train_op\u001b[0m\u001b[0;34m,\u001b[0m\u001b[0mfeed_dict\u001b[0m\u001b[0;34m)\u001b[0m\u001b[0;34m\u001b[0m\u001b[0m\n\u001b[1;32m     27\u001b[0m         \u001b[0msess\u001b[0m\u001b[0;34m.\u001b[0m\u001b[0mrun\u001b[0m\u001b[0;34m(\u001b[0m\u001b[0mM_train_op_m\u001b[0m\u001b[0;34m,\u001b[0m\u001b[0mfeed_dict\u001b[0m\u001b[0;34m)\u001b[0m\u001b[0;34m\u001b[0m\u001b[0m\n\u001b[0;32m---> 28\u001b[0;31m         \u001b[0msess\u001b[0m\u001b[0;34m.\u001b[0m\u001b[0mrun\u001b[0m\u001b[0;34m(\u001b[0m\u001b[0mM_train_op_g\u001b[0m\u001b[0;34m,\u001b[0m\u001b[0mfeed_dict\u001b[0m\u001b[0;34m)\u001b[0m\u001b[0;34m\u001b[0m\u001b[0m\n\u001b[0m\u001b[1;32m     29\u001b[0m \u001b[0;34m\u001b[0m\u001b[0m\n\u001b[1;32m     30\u001b[0m \u001b[0;34m\u001b[0m\u001b[0m\n",
      "\u001b[0;32m/usr/local/lib/python3.5/dist-packages/tensorflow/python/client/session.py\u001b[0m in \u001b[0;36mrun\u001b[0;34m(self, fetches, feed_dict, options, run_metadata)\u001b[0m\n\u001b[1;32m    893\u001b[0m     \u001b[0;32mtry\u001b[0m\u001b[0;34m:\u001b[0m\u001b[0;34m\u001b[0m\u001b[0m\n\u001b[1;32m    894\u001b[0m       result = self._run(None, fetches, feed_dict, options_ptr,\n\u001b[0;32m--> 895\u001b[0;31m                          run_metadata_ptr)\n\u001b[0m\u001b[1;32m    896\u001b[0m       \u001b[0;32mif\u001b[0m \u001b[0mrun_metadata\u001b[0m\u001b[0;34m:\u001b[0m\u001b[0;34m\u001b[0m\u001b[0m\n\u001b[1;32m    897\u001b[0m         \u001b[0mproto_data\u001b[0m \u001b[0;34m=\u001b[0m \u001b[0mtf_session\u001b[0m\u001b[0;34m.\u001b[0m\u001b[0mTF_GetBuffer\u001b[0m\u001b[0;34m(\u001b[0m\u001b[0mrun_metadata_ptr\u001b[0m\u001b[0;34m)\u001b[0m\u001b[0;34m\u001b[0m\u001b[0m\n",
      "\u001b[0;32m/usr/local/lib/python3.5/dist-packages/tensorflow/python/client/session.py\u001b[0m in \u001b[0;36m_run\u001b[0;34m(self, handle, fetches, feed_dict, options, run_metadata)\u001b[0m\n\u001b[1;32m   1126\u001b[0m     \u001b[0;32mif\u001b[0m \u001b[0mfinal_fetches\u001b[0m \u001b[0;32mor\u001b[0m \u001b[0mfinal_targets\u001b[0m \u001b[0;32mor\u001b[0m \u001b[0;34m(\u001b[0m\u001b[0mhandle\u001b[0m \u001b[0;32mand\u001b[0m \u001b[0mfeed_dict_tensor\u001b[0m\u001b[0;34m)\u001b[0m\u001b[0;34m:\u001b[0m\u001b[0;34m\u001b[0m\u001b[0m\n\u001b[1;32m   1127\u001b[0m       results = self._do_run(handle, final_targets, final_fetches,\n\u001b[0;32m-> 1128\u001b[0;31m                              feed_dict_tensor, options, run_metadata)\n\u001b[0m\u001b[1;32m   1129\u001b[0m     \u001b[0;32melse\u001b[0m\u001b[0;34m:\u001b[0m\u001b[0;34m\u001b[0m\u001b[0m\n\u001b[1;32m   1130\u001b[0m       \u001b[0mresults\u001b[0m \u001b[0;34m=\u001b[0m \u001b[0;34m[\u001b[0m\u001b[0;34m]\u001b[0m\u001b[0;34m\u001b[0m\u001b[0m\n",
      "\u001b[0;32m/usr/local/lib/python3.5/dist-packages/tensorflow/python/client/session.py\u001b[0m in \u001b[0;36m_do_run\u001b[0;34m(self, handle, target_list, fetch_list, feed_dict, options, run_metadata)\u001b[0m\n\u001b[1;32m   1342\u001b[0m     \u001b[0;32mif\u001b[0m \u001b[0mhandle\u001b[0m \u001b[0;32mis\u001b[0m \u001b[0;32mNone\u001b[0m\u001b[0;34m:\u001b[0m\u001b[0;34m\u001b[0m\u001b[0m\n\u001b[1;32m   1343\u001b[0m       return self._do_call(_run_fn, self._session, feeds, fetches, targets,\n\u001b[0;32m-> 1344\u001b[0;31m                            options, run_metadata)\n\u001b[0m\u001b[1;32m   1345\u001b[0m     \u001b[0;32melse\u001b[0m\u001b[0;34m:\u001b[0m\u001b[0;34m\u001b[0m\u001b[0m\n\u001b[1;32m   1346\u001b[0m       \u001b[0;32mreturn\u001b[0m \u001b[0mself\u001b[0m\u001b[0;34m.\u001b[0m\u001b[0m_do_call\u001b[0m\u001b[0;34m(\u001b[0m\u001b[0m_prun_fn\u001b[0m\u001b[0;34m,\u001b[0m \u001b[0mself\u001b[0m\u001b[0;34m.\u001b[0m\u001b[0m_session\u001b[0m\u001b[0;34m,\u001b[0m \u001b[0mhandle\u001b[0m\u001b[0;34m,\u001b[0m \u001b[0mfeeds\u001b[0m\u001b[0;34m,\u001b[0m \u001b[0mfetches\u001b[0m\u001b[0;34m)\u001b[0m\u001b[0;34m\u001b[0m\u001b[0m\n",
      "\u001b[0;32m/usr/local/lib/python3.5/dist-packages/tensorflow/python/client/session.py\u001b[0m in \u001b[0;36m_do_call\u001b[0;34m(self, fn, *args)\u001b[0m\n\u001b[1;32m   1348\u001b[0m   \u001b[0;32mdef\u001b[0m \u001b[0m_do_call\u001b[0m\u001b[0;34m(\u001b[0m\u001b[0mself\u001b[0m\u001b[0;34m,\u001b[0m \u001b[0mfn\u001b[0m\u001b[0;34m,\u001b[0m \u001b[0;34m*\u001b[0m\u001b[0margs\u001b[0m\u001b[0;34m)\u001b[0m\u001b[0;34m:\u001b[0m\u001b[0;34m\u001b[0m\u001b[0m\n\u001b[1;32m   1349\u001b[0m     \u001b[0;32mtry\u001b[0m\u001b[0;34m:\u001b[0m\u001b[0;34m\u001b[0m\u001b[0m\n\u001b[0;32m-> 1350\u001b[0;31m       \u001b[0;32mreturn\u001b[0m \u001b[0mfn\u001b[0m\u001b[0;34m(\u001b[0m\u001b[0;34m*\u001b[0m\u001b[0margs\u001b[0m\u001b[0;34m)\u001b[0m\u001b[0;34m\u001b[0m\u001b[0m\n\u001b[0m\u001b[1;32m   1351\u001b[0m     \u001b[0;32mexcept\u001b[0m \u001b[0merrors\u001b[0m\u001b[0;34m.\u001b[0m\u001b[0mOpError\u001b[0m \u001b[0;32mas\u001b[0m \u001b[0me\u001b[0m\u001b[0;34m:\u001b[0m\u001b[0;34m\u001b[0m\u001b[0m\n\u001b[1;32m   1352\u001b[0m       \u001b[0mmessage\u001b[0m \u001b[0;34m=\u001b[0m \u001b[0mcompat\u001b[0m\u001b[0;34m.\u001b[0m\u001b[0mas_text\u001b[0m\u001b[0;34m(\u001b[0m\u001b[0me\u001b[0m\u001b[0;34m.\u001b[0m\u001b[0mmessage\u001b[0m\u001b[0;34m)\u001b[0m\u001b[0;34m\u001b[0m\u001b[0m\n",
      "\u001b[0;32m/usr/local/lib/python3.5/dist-packages/tensorflow/python/client/session.py\u001b[0m in \u001b[0;36m_run_fn\u001b[0;34m(session, feed_dict, fetch_list, target_list, options, run_metadata)\u001b[0m\n\u001b[1;32m   1327\u001b[0m           return tf_session.TF_Run(session, options,\n\u001b[1;32m   1328\u001b[0m                                    \u001b[0mfeed_dict\u001b[0m\u001b[0;34m,\u001b[0m \u001b[0mfetch_list\u001b[0m\u001b[0;34m,\u001b[0m \u001b[0mtarget_list\u001b[0m\u001b[0;34m,\u001b[0m\u001b[0;34m\u001b[0m\u001b[0m\n\u001b[0;32m-> 1329\u001b[0;31m                                    status, run_metadata)\n\u001b[0m\u001b[1;32m   1330\u001b[0m \u001b[0;34m\u001b[0m\u001b[0m\n\u001b[1;32m   1331\u001b[0m     \u001b[0;32mdef\u001b[0m \u001b[0m_prun_fn\u001b[0m\u001b[0;34m(\u001b[0m\u001b[0msession\u001b[0m\u001b[0;34m,\u001b[0m \u001b[0mhandle\u001b[0m\u001b[0;34m,\u001b[0m \u001b[0mfeed_dict\u001b[0m\u001b[0;34m,\u001b[0m \u001b[0mfetch_list\u001b[0m\u001b[0;34m)\u001b[0m\u001b[0;34m:\u001b[0m\u001b[0;34m\u001b[0m\u001b[0m\n",
      "\u001b[0;31mKeyboardInterrupt\u001b[0m: "
     ]
    }
   ],
   "source": [
    "samples=[] #generator examples\n",
    "\n",
    "init=tf.global_variables_initializer()\n",
    "\n",
    "# with tf.Session() as sess:\n",
    "sess=tf.Session()\n",
    "sess.run(init)\n",
    "\n",
    "\n",
    "for epoch in range(10000):\n",
    "\n",
    "    perm = np.random.permutation(n_samples)\n",
    "\n",
    "    for i in range(num_batches):\n",
    "\n",
    "        batch_x    = x[i*batch_size:(i+1)*(batch_size)]\n",
    "        batch_eps  = np.random.uniform(-1., 1., size=[batch_size,noise_dim])#np.random.randn(batch_size,noise_dim)\n",
    "\n",
    "        categorical_code = np.random.randint(0,code_dim,size=batch_size)\n",
    "        batch_code = indices_to_one_hot(categorical_code,code_dim)\n",
    "\n",
    "\n",
    "        feed_dict = {x_real:batch_x, eps:batch_eps, code:batch_code, is_training:True}\n",
    "\n",
    "        sess.run(D_train_op,feed_dict)\n",
    "        sess.run(G_train_op,feed_dict)\n",
    "        sess.run(M_train_op_m,feed_dict)\n",
    "        sess.run(M_train_op_g,feed_dict)\n",
    "\n",
    "\n",
    "    D_real,D_fake,D_outF,D_outR,g_loss,m_loss = sess.run([D_real_loss,D_fake_loss,D_out_fake,D_out_real,G_loss,M_loss],\\\n",
    "                                           feed_dict)\n",
    "    print(\"ep:{}, D_real_loss: {:0.4f}, D_fake_loss: {:0.4f}, D_out_fk: {:0.4f},D_out_rl: {:0.4f}, G_loss: {:0.4f}, M_loss: {:0.4f}\".format(epoch,D_real,D_fake,np.mean(D_outF),np.mean(D_outR),g_loss,-m_loss))\n",
    "\n",
    "\n",
    "    sample_eps = np.random.uniform(-1,1,size=(200,noise_dim))\n",
    "    aa = np.random.randint(0,code_dim,size=200)\n",
    "    sample_cod = indices_to_one_hot(aa,code_dim)\n",
    "\n",
    "    gen_sample = sess.run(x_tld,feed_dict={eps:sample_eps, code:sample_cod, is_training:True})\n",
    "\n",
    "    if epoch%10 == 0:\n",
    "        plt.scatter(x[:,0], x[:,1], s=2.0)\n",
    "        plt.scatter(gen_sample[:,0],gen_sample[:,1],c='r')\n",
    "        plt.xlim((-2, 2))\n",
    "        plt.ylim((-2, 2))\n",
    "        plt.show()\n",
    "\n",
    "        #samples.append(gen_sample)"
   ]
  },
  {
   "cell_type": "code",
   "execution_count": null,
   "metadata": {
    "scrolled": false
   },
   "outputs": [],
   "source": [
    "\n",
    "    \n",
    "sample_eps = np.random.uniform(-1,1,size=(200,noise_dim))\n",
    "aa = 3*np.ones(200, dtype=int)#np.random.randint(0,code_dim,size=200)\n",
    "sample_cod = indices_to_one_hot(aa,code_dim)\n",
    "\n",
    "gen_sample = sess.run(x_tld,feed_dict={eps:sample_eps, code:sample_cod, is_training:True})\n",
    "\n",
    "\n",
    "plt.scatter(x[:,0], x[:,1], s=2.0)\n",
    "plt.scatter(gen_sample[:,0],gen_sample[:,1],c='r')\n",
    "plt.xlim((-2, 2))\n",
    "plt.ylim((-2, 2))\n",
    "plt.show()"
   ]
  },
  {
   "cell_type": "code",
   "execution_count": null,
   "metadata": {},
   "outputs": [],
   "source": [
    "aa"
   ]
  },
  {
   "cell_type": "code",
   "execution_count": null,
   "metadata": {},
   "outputs": [],
   "source": []
  }
 ],
 "metadata": {
  "colab": {
   "collapsed_sections": [],
   "name": "InfoGAN_MINE.ipynb",
   "provenance": [],
   "version": "0.3.2"
  },
  "kernelspec": {
   "display_name": "Python 3",
   "language": "python",
   "name": "python3"
  },
  "language_info": {
   "codemirror_mode": {
    "name": "ipython",
    "version": 3
   },
   "file_extension": ".py",
   "mimetype": "text/x-python",
   "name": "python",
   "nbconvert_exporter": "python",
   "pygments_lexer": "ipython3",
   "version": "3.5.2"
  }
 },
 "nbformat": 4,
 "nbformat_minor": 1
}
